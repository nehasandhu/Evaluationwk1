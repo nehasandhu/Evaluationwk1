{
 "cells": [
  {
   "cell_type": "markdown",
   "id": "b2f6e77a",
   "metadata": {},
   "source": [
    "# Problem Discription :"
   ]
  },
  {
   "cell_type": "markdown",
   "id": "586848b8",
   "metadata": {},
   "source": [
    "It is a sports case study where data for 2014 to develop an algorithm that predicts the number of wins for a given team in the 2015 season based on several different indicators of success. It will help the team management to replace the team member.\n",
    "\n",
    "Input features :\n",
    "    \n",
    "    R: Runs,\n",
    "\n",
    "    AB: At Bats\n",
    "\n",
    "    H: Hits\n",
    "\n",
    "    2B: Doubles\n",
    "\n",
    "    3B: Triples\n",
    "\n",
    "    HR: Homeruns\n",
    "\n",
    "    BB: Walks\n",
    "\n",
    "    SO: Strikeouts\n",
    "\n",
    "    SB: Stolen Bases\n",
    "\n",
    "    RA: Runs Allowed\n",
    "\n",
    "    ER: Earned Runs\n",
    "\n",
    "    ERA: Earned Run Average (ERA)\n",
    "\n",
    "    CG: Shutouts\n",
    "\n",
    "    SV: Saves,\n",
    "\n",
    "    SV: Complete Games\n",
    "\n",
    "    E: Errors\n",
    "    \n",
    "Output features :\n",
    "\n",
    "    W: Win"
   ]
  },
  {
   "cell_type": "markdown",
   "id": "5c2af31b",
   "metadata": {},
   "source": [
    "# Data Analysis"
   ]
  },
  {
   "cell_type": "code",
   "execution_count": 1,
   "id": "9183a775",
   "metadata": {},
   "outputs": [],
   "source": [
    "\n",
    "#importing pandas and numpy libraries\n",
    "import pandas as pd\n",
    "import numpy as np\n",
    "\n"
   ]
  },
  {
   "cell_type": "code",
   "execution_count": 5,
   "id": "b33e6dfc",
   "metadata": {},
   "outputs": [],
   "source": [
    "\n",
    "#Reading the DataSet to work on the Data Project and adding in the dataframe\n",
    "dfbase= pd.read_csv(\"baseball.csv\")\n",
    "\n"
   ]
  },
  {
   "cell_type": "code",
   "execution_count": 6,
   "id": "e2aaab81",
   "metadata": {},
   "outputs": [
    {
     "data": {
      "text/plain": [
       "Index(['W', 'R', 'AB', 'H', '2B', '3B', 'HR', 'BB', 'SO', 'SB', 'RA', 'ER',\n",
       "       'ERA', 'CG', 'SHO', 'SV', 'E'],\n",
       "      dtype='object')"
      ]
     },
     "execution_count": 6,
     "metadata": {},
     "output_type": "execute_result"
    }
   ],
   "source": [
    "# reading the number of columns from the data set baseball.\n",
    "dfbase.columns\n",
    "\n"
   ]
  },
  {
   "cell_type": "markdown",
   "id": "6380060f",
   "metadata": {},
   "source": [
    "Observaion - There are total 16 features which will be used to develop a machine learning model \n",
    "\n",
    "Input features- Runs, At Bats, Hits, Doubles, Triples, Homeruns, Walks, Strikeouts, Stolen Bases, Runs Allowed, Earned Runs, Earned Run Average (ERA), Shutouts, Saves, Complete Games and Errors\n",
    "\n",
    "Output feature - Number of predicted wins (W)"
   ]
  },
  {
   "cell_type": "code",
   "execution_count": 7,
   "id": "52bc8ed5",
   "metadata": {},
   "outputs": [
    {
     "data": {
      "text/html": [
       "<div>\n",
       "<style scoped>\n",
       "    .dataframe tbody tr th:only-of-type {\n",
       "        vertical-align: middle;\n",
       "    }\n",
       "\n",
       "    .dataframe tbody tr th {\n",
       "        vertical-align: top;\n",
       "    }\n",
       "\n",
       "    .dataframe thead th {\n",
       "        text-align: right;\n",
       "    }\n",
       "</style>\n",
       "<table border=\"1\" class=\"dataframe\">\n",
       "  <thead>\n",
       "    <tr style=\"text-align: right;\">\n",
       "      <th></th>\n",
       "      <th>W</th>\n",
       "      <th>R</th>\n",
       "      <th>AB</th>\n",
       "      <th>H</th>\n",
       "      <th>2B</th>\n",
       "      <th>3B</th>\n",
       "      <th>HR</th>\n",
       "      <th>BB</th>\n",
       "      <th>SO</th>\n",
       "      <th>SB</th>\n",
       "      <th>RA</th>\n",
       "      <th>ER</th>\n",
       "      <th>ERA</th>\n",
       "      <th>CG</th>\n",
       "      <th>SHO</th>\n",
       "      <th>SV</th>\n",
       "      <th>E</th>\n",
       "    </tr>\n",
       "  </thead>\n",
       "  <tbody>\n",
       "    <tr>\n",
       "      <th>0</th>\n",
       "      <td>95</td>\n",
       "      <td>724</td>\n",
       "      <td>5575</td>\n",
       "      <td>1497</td>\n",
       "      <td>300</td>\n",
       "      <td>42</td>\n",
       "      <td>139</td>\n",
       "      <td>383</td>\n",
       "      <td>973</td>\n",
       "      <td>104</td>\n",
       "      <td>641</td>\n",
       "      <td>601</td>\n",
       "      <td>3.73</td>\n",
       "      <td>2</td>\n",
       "      <td>8</td>\n",
       "      <td>56</td>\n",
       "      <td>88</td>\n",
       "    </tr>\n",
       "    <tr>\n",
       "      <th>1</th>\n",
       "      <td>83</td>\n",
       "      <td>696</td>\n",
       "      <td>5467</td>\n",
       "      <td>1349</td>\n",
       "      <td>277</td>\n",
       "      <td>44</td>\n",
       "      <td>156</td>\n",
       "      <td>439</td>\n",
       "      <td>1264</td>\n",
       "      <td>70</td>\n",
       "      <td>700</td>\n",
       "      <td>653</td>\n",
       "      <td>4.07</td>\n",
       "      <td>2</td>\n",
       "      <td>12</td>\n",
       "      <td>45</td>\n",
       "      <td>86</td>\n",
       "    </tr>\n",
       "    <tr>\n",
       "      <th>2</th>\n",
       "      <td>81</td>\n",
       "      <td>669</td>\n",
       "      <td>5439</td>\n",
       "      <td>1395</td>\n",
       "      <td>303</td>\n",
       "      <td>29</td>\n",
       "      <td>141</td>\n",
       "      <td>533</td>\n",
       "      <td>1157</td>\n",
       "      <td>86</td>\n",
       "      <td>640</td>\n",
       "      <td>584</td>\n",
       "      <td>3.67</td>\n",
       "      <td>11</td>\n",
       "      <td>10</td>\n",
       "      <td>38</td>\n",
       "      <td>79</td>\n",
       "    </tr>\n",
       "    <tr>\n",
       "      <th>3</th>\n",
       "      <td>76</td>\n",
       "      <td>622</td>\n",
       "      <td>5533</td>\n",
       "      <td>1381</td>\n",
       "      <td>260</td>\n",
       "      <td>27</td>\n",
       "      <td>136</td>\n",
       "      <td>404</td>\n",
       "      <td>1231</td>\n",
       "      <td>68</td>\n",
       "      <td>701</td>\n",
       "      <td>643</td>\n",
       "      <td>3.98</td>\n",
       "      <td>7</td>\n",
       "      <td>9</td>\n",
       "      <td>37</td>\n",
       "      <td>101</td>\n",
       "    </tr>\n",
       "    <tr>\n",
       "      <th>4</th>\n",
       "      <td>74</td>\n",
       "      <td>689</td>\n",
       "      <td>5605</td>\n",
       "      <td>1515</td>\n",
       "      <td>289</td>\n",
       "      <td>49</td>\n",
       "      <td>151</td>\n",
       "      <td>455</td>\n",
       "      <td>1259</td>\n",
       "      <td>83</td>\n",
       "      <td>803</td>\n",
       "      <td>746</td>\n",
       "      <td>4.64</td>\n",
       "      <td>7</td>\n",
       "      <td>12</td>\n",
       "      <td>35</td>\n",
       "      <td>86</td>\n",
       "    </tr>\n",
       "  </tbody>\n",
       "</table>\n",
       "</div>"
      ],
      "text/plain": [
       "    W    R    AB     H   2B  3B   HR   BB    SO   SB   RA   ER   ERA  CG  SHO  \\\n",
       "0  95  724  5575  1497  300  42  139  383   973  104  641  601  3.73   2    8   \n",
       "1  83  696  5467  1349  277  44  156  439  1264   70  700  653  4.07   2   12   \n",
       "2  81  669  5439  1395  303  29  141  533  1157   86  640  584  3.67  11   10   \n",
       "3  76  622  5533  1381  260  27  136  404  1231   68  701  643  3.98   7    9   \n",
       "4  74  689  5605  1515  289  49  151  455  1259   83  803  746  4.64   7   12   \n",
       "\n",
       "   SV    E  \n",
       "0  56   88  \n",
       "1  45   86  \n",
       "2  38   79  \n",
       "3  37  101  \n",
       "4  35   86  "
      ]
     },
     "execution_count": 7,
     "metadata": {},
     "output_type": "execute_result"
    }
   ],
   "source": [
    "# displaying the top columns of the baseball dataset.\n",
    "dfbase.head()\n",
    "\n"
   ]
  },
  {
   "cell_type": "code",
   "execution_count": 9,
   "id": "6fe70857",
   "metadata": {},
   "outputs": [
    {
     "data": {
      "text/html": [
       "<div>\n",
       "<style scoped>\n",
       "    .dataframe tbody tr th:only-of-type {\n",
       "        vertical-align: middle;\n",
       "    }\n",
       "\n",
       "    .dataframe tbody tr th {\n",
       "        vertical-align: top;\n",
       "    }\n",
       "\n",
       "    .dataframe thead th {\n",
       "        text-align: right;\n",
       "    }\n",
       "</style>\n",
       "<table border=\"1\" class=\"dataframe\">\n",
       "  <thead>\n",
       "    <tr style=\"text-align: right;\">\n",
       "      <th></th>\n",
       "      <th>W</th>\n",
       "      <th>R</th>\n",
       "      <th>AB</th>\n",
       "      <th>H</th>\n",
       "      <th>2B</th>\n",
       "      <th>3B</th>\n",
       "      <th>HR</th>\n",
       "      <th>BB</th>\n",
       "      <th>SO</th>\n",
       "      <th>SB</th>\n",
       "      <th>RA</th>\n",
       "      <th>ER</th>\n",
       "      <th>ERA</th>\n",
       "      <th>CG</th>\n",
       "      <th>SHO</th>\n",
       "      <th>SV</th>\n",
       "      <th>E</th>\n",
       "    </tr>\n",
       "  </thead>\n",
       "  <tbody>\n",
       "    <tr>\n",
       "      <th>25</th>\n",
       "      <td>92</td>\n",
       "      <td>667</td>\n",
       "      <td>5385</td>\n",
       "      <td>1346</td>\n",
       "      <td>263</td>\n",
       "      <td>26</td>\n",
       "      <td>187</td>\n",
       "      <td>563</td>\n",
       "      <td>1258</td>\n",
       "      <td>59</td>\n",
       "      <td>595</td>\n",
       "      <td>553</td>\n",
       "      <td>3.44</td>\n",
       "      <td>6</td>\n",
       "      <td>21</td>\n",
       "      <td>47</td>\n",
       "      <td>75</td>\n",
       "    </tr>\n",
       "    <tr>\n",
       "      <th>26</th>\n",
       "      <td>84</td>\n",
       "      <td>696</td>\n",
       "      <td>5565</td>\n",
       "      <td>1486</td>\n",
       "      <td>288</td>\n",
       "      <td>39</td>\n",
       "      <td>136</td>\n",
       "      <td>457</td>\n",
       "      <td>1159</td>\n",
       "      <td>93</td>\n",
       "      <td>627</td>\n",
       "      <td>597</td>\n",
       "      <td>3.72</td>\n",
       "      <td>7</td>\n",
       "      <td>18</td>\n",
       "      <td>41</td>\n",
       "      <td>78</td>\n",
       "    </tr>\n",
       "    <tr>\n",
       "      <th>27</th>\n",
       "      <td>79</td>\n",
       "      <td>720</td>\n",
       "      <td>5649</td>\n",
       "      <td>1494</td>\n",
       "      <td>289</td>\n",
       "      <td>48</td>\n",
       "      <td>154</td>\n",
       "      <td>490</td>\n",
       "      <td>1312</td>\n",
       "      <td>132</td>\n",
       "      <td>713</td>\n",
       "      <td>659</td>\n",
       "      <td>4.04</td>\n",
       "      <td>1</td>\n",
       "      <td>12</td>\n",
       "      <td>44</td>\n",
       "      <td>86</td>\n",
       "    </tr>\n",
       "    <tr>\n",
       "      <th>28</th>\n",
       "      <td>74</td>\n",
       "      <td>650</td>\n",
       "      <td>5457</td>\n",
       "      <td>1324</td>\n",
       "      <td>260</td>\n",
       "      <td>36</td>\n",
       "      <td>148</td>\n",
       "      <td>426</td>\n",
       "      <td>1327</td>\n",
       "      <td>82</td>\n",
       "      <td>731</td>\n",
       "      <td>655</td>\n",
       "      <td>4.09</td>\n",
       "      <td>1</td>\n",
       "      <td>6</td>\n",
       "      <td>41</td>\n",
       "      <td>92</td>\n",
       "    </tr>\n",
       "    <tr>\n",
       "      <th>29</th>\n",
       "      <td>68</td>\n",
       "      <td>737</td>\n",
       "      <td>5572</td>\n",
       "      <td>1479</td>\n",
       "      <td>274</td>\n",
       "      <td>49</td>\n",
       "      <td>186</td>\n",
       "      <td>388</td>\n",
       "      <td>1283</td>\n",
       "      <td>97</td>\n",
       "      <td>844</td>\n",
       "      <td>799</td>\n",
       "      <td>5.04</td>\n",
       "      <td>4</td>\n",
       "      <td>4</td>\n",
       "      <td>36</td>\n",
       "      <td>95</td>\n",
       "    </tr>\n",
       "  </tbody>\n",
       "</table>\n",
       "</div>"
      ],
      "text/plain": [
       "     W    R    AB     H   2B  3B   HR   BB    SO   SB   RA   ER   ERA  CG  \\\n",
       "25  92  667  5385  1346  263  26  187  563  1258   59  595  553  3.44   6   \n",
       "26  84  696  5565  1486  288  39  136  457  1159   93  627  597  3.72   7   \n",
       "27  79  720  5649  1494  289  48  154  490  1312  132  713  659  4.04   1   \n",
       "28  74  650  5457  1324  260  36  148  426  1327   82  731  655  4.09   1   \n",
       "29  68  737  5572  1479  274  49  186  388  1283   97  844  799  5.04   4   \n",
       "\n",
       "    SHO  SV   E  \n",
       "25   21  47  75  \n",
       "26   18  41  78  \n",
       "27   12  44  86  \n",
       "28    6  41  92  \n",
       "29    4  36  95  "
      ]
     },
     "execution_count": 9,
     "metadata": {},
     "output_type": "execute_result"
    }
   ],
   "source": [
    "# displaying the bottom columns of the baseball dataset.\n",
    "dfbase.tail()"
   ]
  },
  {
   "cell_type": "markdown",
   "id": "42ed7d4b",
   "metadata": {},
   "source": [
    "# Data Cleaning"
   ]
  },
  {
   "cell_type": "code",
   "execution_count": 10,
   "id": "a3146e29",
   "metadata": {},
   "outputs": [
    {
     "data": {
      "text/plain": [
       "W      0\n",
       "R      0\n",
       "AB     0\n",
       "H      0\n",
       "2B     0\n",
       "3B     0\n",
       "HR     0\n",
       "BB     0\n",
       "SO     0\n",
       "SB     0\n",
       "RA     0\n",
       "ER     0\n",
       "ERA    0\n",
       "CG     0\n",
       "SHO    0\n",
       "SV     0\n",
       "E      0\n",
       "dtype: int64"
      ]
     },
     "execution_count": 10,
     "metadata": {},
     "output_type": "execute_result"
    }
   ],
   "source": [
    "# checking the Null values present in the data set\n",
    "\n",
    "dfbase.isnull().sum()\n",
    "\n"
   ]
  },
  {
   "cell_type": "markdown",
   "id": "9c466f37",
   "metadata": {},
   "source": [
    "Observation - There are no Null values present in the data set.So there is no need of Cleaning the Data set ."
   ]
  },
  {
   "cell_type": "code",
   "execution_count": null,
   "id": "b5422b58",
   "metadata": {},
   "outputs": [],
   "source": [
    "Checking the Data types"
   ]
  },
  {
   "cell_type": "code",
   "execution_count": 12,
   "id": "5f959468",
   "metadata": {},
   "outputs": [
    {
     "data": {
      "text/plain": [
       "W        int64\n",
       "R        int64\n",
       "AB       int64\n",
       "H        int64\n",
       "2B       int64\n",
       "3B       int64\n",
       "HR       int64\n",
       "BB       int64\n",
       "SO       int64\n",
       "SB       int64\n",
       "RA       int64\n",
       "ER       int64\n",
       "ERA    float64\n",
       "CG       int64\n",
       "SHO      int64\n",
       "SV       int64\n",
       "E        int64\n",
       "dtype: object"
      ]
     },
     "execution_count": 12,
     "metadata": {},
     "output_type": "execute_result"
    }
   ],
   "source": [
    "dfbase.dtypes\n",
    "\n"
   ]
  },
  {
   "cell_type": "code",
   "execution_count": 14,
   "id": "d4ab1b55",
   "metadata": {},
   "outputs": [
    {
     "data": {
      "text/plain": [
       "array([ 95,  83,  81,  76,  74,  93,  87,  80,  78,  88,  86,  85,  68,\n",
       "       100,  98,  97,  64,  90,  71,  67,  63,  92,  84,  79], dtype=int64)"
      ]
     },
     "execution_count": 14,
     "metadata": {},
     "output_type": "execute_result"
    }
   ],
   "source": [
    "\n",
    "dfbase['W'].unique()\n",
    "\n"
   ]
  },
  {
   "cell_type": "code",
   "execution_count": 16,
   "id": "e6eba0ba",
   "metadata": {},
   "outputs": [
    {
     "data": {
      "text/plain": [
       "24"
      ]
     },
     "execution_count": 16,
     "metadata": {},
     "output_type": "execute_result"
    }
   ],
   "source": [
    "\n",
    "\n",
    "dfbase['W'].nunique()\n",
    "\n"
   ]
  },
  {
   "cell_type": "code",
   "execution_count": 17,
   "id": "1c1c215c",
   "metadata": {},
   "outputs": [
    {
     "data": {
      "text/plain": [
       "30"
      ]
     },
     "execution_count": 17,
     "metadata": {},
     "output_type": "execute_result"
    }
   ],
   "source": [
    "dfbase.shape[0]"
   ]
  },
  {
   "cell_type": "markdown",
   "id": "676ce10d",
   "metadata": {},
   "source": [
    "Checking if there are any blank records in the data set"
   ]
  },
  {
   "cell_type": "code",
   "execution_count": 19,
   "id": "391c276f",
   "metadata": {},
   "outputs": [
    {
     "data": {
      "text/html": [
       "<div>\n",
       "<style scoped>\n",
       "    .dataframe tbody tr th:only-of-type {\n",
       "        vertical-align: middle;\n",
       "    }\n",
       "\n",
       "    .dataframe tbody tr th {\n",
       "        vertical-align: top;\n",
       "    }\n",
       "\n",
       "    .dataframe thead th {\n",
       "        text-align: right;\n",
       "    }\n",
       "</style>\n",
       "<table border=\"1\" class=\"dataframe\">\n",
       "  <thead>\n",
       "    <tr style=\"text-align: right;\">\n",
       "      <th></th>\n",
       "      <th>W</th>\n",
       "      <th>R</th>\n",
       "      <th>AB</th>\n",
       "      <th>H</th>\n",
       "      <th>2B</th>\n",
       "      <th>3B</th>\n",
       "      <th>HR</th>\n",
       "      <th>BB</th>\n",
       "      <th>SO</th>\n",
       "      <th>SB</th>\n",
       "      <th>RA</th>\n",
       "      <th>ER</th>\n",
       "      <th>ERA</th>\n",
       "      <th>CG</th>\n",
       "      <th>SHO</th>\n",
       "      <th>SV</th>\n",
       "      <th>E</th>\n",
       "    </tr>\n",
       "  </thead>\n",
       "  <tbody>\n",
       "  </tbody>\n",
       "</table>\n",
       "</div>"
      ],
      "text/plain": [
       "Empty DataFrame\n",
       "Columns: [W, R, AB, H, 2B, 3B, HR, BB, SO, SB, RA, ER, ERA, CG, SHO, SV, E]\n",
       "Index: []"
      ]
     },
     "execution_count": 19,
     "metadata": {},
     "output_type": "execute_result"
    }
   ],
   "source": [
    "\n",
    "dfbase.loc[dfbase['W'] == \" \"]\n",
    "\n"
   ]
  },
  {
   "cell_type": "code",
   "execution_count": null,
   "id": "4a1bc4ac",
   "metadata": {},
   "outputs": [],
   "source": [
    "Observation - There are no Blank records in our Data set"
   ]
  },
  {
   "cell_type": "markdown",
   "id": "6f4bcd1c",
   "metadata": {},
   "source": [
    "Checking if there are any 0 value records in the data set"
   ]
  },
  {
   "cell_type": "code",
   "execution_count": 20,
   "id": "786853eb",
   "metadata": {},
   "outputs": [
    {
     "data": {
      "text/html": [
       "<div>\n",
       "<style scoped>\n",
       "    .dataframe tbody tr th:only-of-type {\n",
       "        vertical-align: middle;\n",
       "    }\n",
       "\n",
       "    .dataframe tbody tr th {\n",
       "        vertical-align: top;\n",
       "    }\n",
       "\n",
       "    .dataframe thead th {\n",
       "        text-align: right;\n",
       "    }\n",
       "</style>\n",
       "<table border=\"1\" class=\"dataframe\">\n",
       "  <thead>\n",
       "    <tr style=\"text-align: right;\">\n",
       "      <th></th>\n",
       "      <th>W</th>\n",
       "      <th>R</th>\n",
       "      <th>AB</th>\n",
       "      <th>H</th>\n",
       "      <th>2B</th>\n",
       "      <th>3B</th>\n",
       "      <th>HR</th>\n",
       "      <th>BB</th>\n",
       "      <th>SO</th>\n",
       "      <th>SB</th>\n",
       "      <th>RA</th>\n",
       "      <th>ER</th>\n",
       "      <th>ERA</th>\n",
       "      <th>CG</th>\n",
       "      <th>SHO</th>\n",
       "      <th>SV</th>\n",
       "      <th>E</th>\n",
       "    </tr>\n",
       "  </thead>\n",
       "  <tbody>\n",
       "  </tbody>\n",
       "</table>\n",
       "</div>"
      ],
      "text/plain": [
       "Empty DataFrame\n",
       "Columns: [W, R, AB, H, 2B, 3B, HR, BB, SO, SB, RA, ER, ERA, CG, SHO, SV, E]\n",
       "Index: []"
      ]
     },
     "execution_count": 20,
     "metadata": {},
     "output_type": "execute_result"
    }
   ],
   "source": [
    "\n",
    "dfbase.loc[dfbase['W'] == 0]"
   ]
  },
  {
   "cell_type": "markdown",
   "id": "a09683eb",
   "metadata": {},
   "source": [
    "Observation - There are no 0 value records in our Data set"
   ]
  },
  {
   "cell_type": "markdown",
   "id": "c43a557e",
   "metadata": {},
   "source": [
    "# Visualization of Data Frame"
   ]
  },
  {
   "cell_type": "code",
   "execution_count": 26,
   "id": "1412b542",
   "metadata": {},
   "outputs": [],
   "source": [
    "\n",
    "\n",
    "import seaborn as sns\n",
    "import warnings\n",
    "#filter.warnings =\"ignore\"\n",
    "\n"
   ]
  },
  {
   "cell_type": "code",
   "execution_count": 27,
   "id": "d84ad5dc",
   "metadata": {},
   "outputs": [
    {
     "name": "stdout",
     "output_type": "stream",
     "text": [
      "68     3\n",
      "81     2\n",
      "76     2\n",
      "74     2\n",
      "83     2\n",
      "98     1\n",
      "84     1\n",
      "92     1\n",
      "63     1\n",
      "67     1\n",
      "71     1\n",
      "90     1\n",
      "64     1\n",
      "97     1\n",
      "95     1\n",
      "100    1\n",
      "85     1\n",
      "86     1\n",
      "88     1\n",
      "78     1\n",
      "80     1\n",
      "87     1\n",
      "93     1\n",
      "79     1\n",
      "Name: W, dtype: int64\n"
     ]
    },
    {
     "data": {
      "image/png": "[encoded data removed]",
      "text/plain": [
       "<Figure size 432x288 with 1 Axes>"
      ]
     },
     "metadata": {
      "needs_background": "light"
     },
     "output_type": "display_data"
    }
   ],
   "source": [
    "base=sns.countplot(x=\"W\",data=dfbase)\n",
    "print(dfbase[\"W\"].value_counts())\n",
    "\n"
   ]
  },
  {
   "cell_type": "code",
   "execution_count": 28,
   "id": "a63cbc52",
   "metadata": {},
   "outputs": [
    {
     "data": {
      "text/plain": [
       "<seaborn.axisgrid.FacetGrid at 0x212a65e9f10>"
      ]
     },
     "execution_count": 28,
     "metadata": {},
     "output_type": "execute_result"
    },
    {
     "data": {
      "image/png": "[encoded data removed]",
      "text/plain": [
       "<Figure size 360x360 with 1 Axes>"
      ]
     },
     "metadata": {
      "needs_background": "light"
     },
     "output_type": "display_data"
    }
   ],
   "source": [
    "\n",
    "\n",
    "import seaborn as sns\n",
    "\n",
    "sns.displot(dfbase[\"W\"],kde =True)\n",
    "\n"
   ]
  },
  {
   "cell_type": "markdown",
   "id": "c1368631",
   "metadata": {},
   "source": [
    "Observation - The abolve displot shows that there is skewness in the output of the Dataset"
   ]
  },
  {
   "cell_type": "code",
   "execution_count": 29,
   "id": "4485cc35",
   "metadata": {},
   "outputs": [
    {
     "data": {
      "text/html": [
       "<div>\n",
       "<style scoped>\n",
       "    .dataframe tbody tr th:only-of-type {\n",
       "        vertical-align: middle;\n",
       "    }\n",
       "\n",
       "    .dataframe tbody tr th {\n",
       "        vertical-align: top;\n",
       "    }\n",
       "\n",
       "    .dataframe thead th {\n",
       "        text-align: right;\n",
       "    }\n",
       "</style>\n",
       "<table border=\"1\" class=\"dataframe\">\n",
       "  <thead>\n",
       "    <tr style=\"text-align: right;\">\n",
       "      <th></th>\n",
       "      <th>W</th>\n",
       "      <th>R</th>\n",
       "      <th>AB</th>\n",
       "      <th>H</th>\n",
       "      <th>2B</th>\n",
       "      <th>3B</th>\n",
       "      <th>HR</th>\n",
       "      <th>BB</th>\n",
       "      <th>SO</th>\n",
       "      <th>SB</th>\n",
       "      <th>RA</th>\n",
       "      <th>ER</th>\n",
       "      <th>ERA</th>\n",
       "      <th>CG</th>\n",
       "      <th>SHO</th>\n",
       "      <th>SV</th>\n",
       "      <th>E</th>\n",
       "    </tr>\n",
       "  </thead>\n",
       "  <tbody>\n",
       "    <tr>\n",
       "      <th>count</th>\n",
       "      <td>30.000000</td>\n",
       "      <td>30.000000</td>\n",
       "      <td>30.000000</td>\n",
       "      <td>30.000000</td>\n",
       "      <td>30.000000</td>\n",
       "      <td>30.000000</td>\n",
       "      <td>30.000000</td>\n",
       "      <td>30.000000</td>\n",
       "      <td>30.00000</td>\n",
       "      <td>30.000000</td>\n",
       "      <td>30.000000</td>\n",
       "      <td>30.000000</td>\n",
       "      <td>30.000000</td>\n",
       "      <td>30.000000</td>\n",
       "      <td>30.000000</td>\n",
       "      <td>30.000000</td>\n",
       "      <td>30.000000</td>\n",
       "    </tr>\n",
       "    <tr>\n",
       "      <th>mean</th>\n",
       "      <td>80.966667</td>\n",
       "      <td>688.233333</td>\n",
       "      <td>5516.266667</td>\n",
       "      <td>1403.533333</td>\n",
       "      <td>274.733333</td>\n",
       "      <td>31.300000</td>\n",
       "      <td>163.633333</td>\n",
       "      <td>469.100000</td>\n",
       "      <td>1248.20000</td>\n",
       "      <td>83.500000</td>\n",
       "      <td>688.233333</td>\n",
       "      <td>635.833333</td>\n",
       "      <td>3.956333</td>\n",
       "      <td>3.466667</td>\n",
       "      <td>11.300000</td>\n",
       "      <td>43.066667</td>\n",
       "      <td>94.333333</td>\n",
       "    </tr>\n",
       "    <tr>\n",
       "      <th>std</th>\n",
       "      <td>10.453455</td>\n",
       "      <td>58.761754</td>\n",
       "      <td>70.467372</td>\n",
       "      <td>57.140923</td>\n",
       "      <td>18.095405</td>\n",
       "      <td>10.452355</td>\n",
       "      <td>31.823309</td>\n",
       "      <td>57.053725</td>\n",
       "      <td>103.75947</td>\n",
       "      <td>22.815225</td>\n",
       "      <td>72.108005</td>\n",
       "      <td>70.140786</td>\n",
       "      <td>0.454089</td>\n",
       "      <td>2.763473</td>\n",
       "      <td>4.120177</td>\n",
       "      <td>7.869335</td>\n",
       "      <td>13.958889</td>\n",
       "    </tr>\n",
       "    <tr>\n",
       "      <th>min</th>\n",
       "      <td>63.000000</td>\n",
       "      <td>573.000000</td>\n",
       "      <td>5385.000000</td>\n",
       "      <td>1324.000000</td>\n",
       "      <td>236.000000</td>\n",
       "      <td>13.000000</td>\n",
       "      <td>100.000000</td>\n",
       "      <td>375.000000</td>\n",
       "      <td>973.00000</td>\n",
       "      <td>44.000000</td>\n",
       "      <td>525.000000</td>\n",
       "      <td>478.000000</td>\n",
       "      <td>2.940000</td>\n",
       "      <td>0.000000</td>\n",
       "      <td>4.000000</td>\n",
       "      <td>28.000000</td>\n",
       "      <td>75.000000</td>\n",
       "    </tr>\n",
       "    <tr>\n",
       "      <th>25%</th>\n",
       "      <td>74.000000</td>\n",
       "      <td>651.250000</td>\n",
       "      <td>5464.000000</td>\n",
       "      <td>1363.000000</td>\n",
       "      <td>262.250000</td>\n",
       "      <td>23.000000</td>\n",
       "      <td>140.250000</td>\n",
       "      <td>428.250000</td>\n",
       "      <td>1157.50000</td>\n",
       "      <td>69.000000</td>\n",
       "      <td>636.250000</td>\n",
       "      <td>587.250000</td>\n",
       "      <td>3.682500</td>\n",
       "      <td>1.000000</td>\n",
       "      <td>9.000000</td>\n",
       "      <td>37.250000</td>\n",
       "      <td>86.000000</td>\n",
       "    </tr>\n",
       "    <tr>\n",
       "      <th>50%</th>\n",
       "      <td>81.000000</td>\n",
       "      <td>689.000000</td>\n",
       "      <td>5510.000000</td>\n",
       "      <td>1382.500000</td>\n",
       "      <td>275.500000</td>\n",
       "      <td>31.000000</td>\n",
       "      <td>158.500000</td>\n",
       "      <td>473.000000</td>\n",
       "      <td>1261.50000</td>\n",
       "      <td>83.500000</td>\n",
       "      <td>695.500000</td>\n",
       "      <td>644.500000</td>\n",
       "      <td>4.025000</td>\n",
       "      <td>3.000000</td>\n",
       "      <td>12.000000</td>\n",
       "      <td>42.000000</td>\n",
       "      <td>91.000000</td>\n",
       "    </tr>\n",
       "    <tr>\n",
       "      <th>75%</th>\n",
       "      <td>87.750000</td>\n",
       "      <td>718.250000</td>\n",
       "      <td>5570.000000</td>\n",
       "      <td>1451.500000</td>\n",
       "      <td>288.750000</td>\n",
       "      <td>39.000000</td>\n",
       "      <td>177.000000</td>\n",
       "      <td>501.250000</td>\n",
       "      <td>1311.50000</td>\n",
       "      <td>96.500000</td>\n",
       "      <td>732.500000</td>\n",
       "      <td>679.250000</td>\n",
       "      <td>4.220000</td>\n",
       "      <td>5.750000</td>\n",
       "      <td>13.000000</td>\n",
       "      <td>46.750000</td>\n",
       "      <td>96.750000</td>\n",
       "    </tr>\n",
       "    <tr>\n",
       "      <th>max</th>\n",
       "      <td>100.000000</td>\n",
       "      <td>891.000000</td>\n",
       "      <td>5649.000000</td>\n",
       "      <td>1515.000000</td>\n",
       "      <td>308.000000</td>\n",
       "      <td>49.000000</td>\n",
       "      <td>232.000000</td>\n",
       "      <td>570.000000</td>\n",
       "      <td>1518.00000</td>\n",
       "      <td>134.000000</td>\n",
       "      <td>844.000000</td>\n",
       "      <td>799.000000</td>\n",
       "      <td>5.040000</td>\n",
       "      <td>11.000000</td>\n",
       "      <td>21.000000</td>\n",
       "      <td>62.000000</td>\n",
       "      <td>126.000000</td>\n",
       "    </tr>\n",
       "  </tbody>\n",
       "</table>\n",
       "</div>"
      ],
      "text/plain": [
       "                W           R           AB            H          2B  \\\n",
       "count   30.000000   30.000000    30.000000    30.000000   30.000000   \n",
       "mean    80.966667  688.233333  5516.266667  1403.533333  274.733333   \n",
       "std     10.453455   58.761754    70.467372    57.140923   18.095405   \n",
       "min     63.000000  573.000000  5385.000000  1324.000000  236.000000   \n",
       "25%     74.000000  651.250000  5464.000000  1363.000000  262.250000   \n",
       "50%     81.000000  689.000000  5510.000000  1382.500000  275.500000   \n",
       "75%     87.750000  718.250000  5570.000000  1451.500000  288.750000   \n",
       "max    100.000000  891.000000  5649.000000  1515.000000  308.000000   \n",
       "\n",
       "              3B          HR          BB          SO          SB          RA  \\\n",
       "count  30.000000   30.000000   30.000000    30.00000   30.000000   30.000000   \n",
       "mean   31.300000  163.633333  469.100000  1248.20000   83.500000  688.233333   \n",
       "std    10.452355   31.823309   57.053725   103.75947   22.815225   72.108005   \n",
       "min    13.000000  100.000000  375.000000   973.00000   44.000000  525.000000   \n",
       "25%    23.000000  140.250000  428.250000  1157.50000   69.000000  636.250000   \n",
       "50%    31.000000  158.500000  473.000000  1261.50000   83.500000  695.500000   \n",
       "75%    39.000000  177.000000  501.250000  1311.50000   96.500000  732.500000   \n",
       "max    49.000000  232.000000  570.000000  1518.00000  134.000000  844.000000   \n",
       "\n",
       "               ER        ERA         CG        SHO         SV           E  \n",
       "count   30.000000  30.000000  30.000000  30.000000  30.000000   30.000000  \n",
       "mean   635.833333   3.956333   3.466667  11.300000  43.066667   94.333333  \n",
       "std     70.140786   0.454089   2.763473   4.120177   7.869335   13.958889  \n",
       "min    478.000000   2.940000   0.000000   4.000000  28.000000   75.000000  \n",
       "25%    587.250000   3.682500   1.000000   9.000000  37.250000   86.000000  \n",
       "50%    644.500000   4.025000   3.000000  12.000000  42.000000   91.000000  \n",
       "75%    679.250000   4.220000   5.750000  13.000000  46.750000   96.750000  \n",
       "max    799.000000   5.040000  11.000000  21.000000  62.000000  126.000000  "
      ]
     },
     "execution_count": 29,
     "metadata": {},
     "output_type": "execute_result"
    }
   ],
   "source": [
    "#describe() is used to view some basic statistical details like percentile, mean, std etc. of a data frame or a series of numeric values.\n",
    "\n",
    "dfbase.describe()\n",
    "\n"
   ]
  },
  {
   "cell_type": "code",
   "execution_count": 30,
   "id": "83c90259",
   "metadata": {},
   "outputs": [
    {
     "data": {
      "text/plain": [
       "<AxesSubplot:>"
      ]
     },
     "execution_count": 30,
     "metadata": {},
     "output_type": "execute_result"
    },
    {
     "data": {
      "image/png": "[encoded data removed]",
      "text/plain": [
       "<Figure size 1080x360 with 2 Axes>"
      ]
     },
     "metadata": {
      "needs_background": "light"
     },
     "output_type": "display_data"
    }
   ],
   "source": [
    "import matplotlib.pyplot as plt\n",
    "plt.figure(figsize =(15,5))\n",
    "sns.heatmap(dfbase.corr(), annot=True, linewidths=0.2,linecolor=\"grey\",fmt='.2f')\n",
    "\n"
   ]
  },
  {
   "cell_type": "code",
   "execution_count": 33,
   "id": "6479c6f7",
   "metadata": {},
   "outputs": [
    {
     "data": {
      "text/plain": [
       "W      0.047089\n",
       "R      1.200786\n",
       "AB     0.183437\n",
       "H      0.670254\n",
       "2B    -0.230650\n",
       "3B     0.129502\n",
       "HR     0.516441\n",
       "BB     0.158498\n",
       "SO    -0.156065\n",
       "SB     0.479893\n",
       "RA     0.045734\n",
       "ER     0.058710\n",
       "ERA    0.053331\n",
       "CG     0.736845\n",
       "SHO    0.565790\n",
       "SV     0.657524\n",
       "E      0.890132\n",
       "dtype: float64"
      ]
     },
     "execution_count": 33,
     "metadata": {},
     "output_type": "execute_result"
    }
   ],
   "source": [
    "dfbase.skew()\n"
   ]
  },
  {
   "cell_type": "code",
   "execution_count": 46,
   "id": "0f9f38f1",
   "metadata": {},
   "outputs": [
    {
     "data": {
      "text/plain": [
       "ERA   -0.819600\n",
       "RA    -0.812952\n",
       "ER    -0.809435\n",
       "3B    -0.251118\n",
       "SB    -0.157234\n",
       "E     -0.089485\n",
       "AB    -0.087947\n",
       "H      0.037612\n",
       "CG     0.080533\n",
       "SO     0.111850\n",
       "HR     0.307407\n",
       "2B     0.427797\n",
       "R      0.430751\n",
       "SHO    0.471805\n",
       "BB     0.484342\n",
       "SV     0.666530\n",
       "W      1.000000\n",
       "Name: W, dtype: float64"
      ]
     },
     "execution_count": 46,
     "metadata": {},
     "output_type": "execute_result"
    }
   ],
   "source": [
    "dfbase.corr()['W'].sort_values()"
   ]
  },
  {
   "cell_type": "code",
   "execution_count": 57,
   "id": "348b98b8",
   "metadata": {},
   "outputs": [
    {
     "data": {
      "text/plain": [
       "<seaborn.axisgrid.FacetGrid at 0x212a6786100>"
      ]
     },
     "execution_count": 57,
     "metadata": {},
     "output_type": "execute_result"
    },
    {
     "data": {
      "image/png": "[encoded data removed]",
      "text/plain": [
       "<Figure size 360x360 with 1 Axes>"
      ]
     },
     "metadata": {
      "needs_background": "light"
     },
     "output_type": "display_data"
    }
   ],
   "source": [
    "import seaborn as sns\n",
    "\n",
    "sns.displot(dfbase['R'],kde =True)\n",
    "\n"
   ]
  },
  {
   "cell_type": "code",
   "execution_count": 56,
   "id": "95907528",
   "metadata": {},
   "outputs": [
    {
     "data": {
      "text/plain": [
       "<AxesSubplot:xlabel='R', ylabel='W'>"
      ]
     },
     "execution_count": 56,
     "metadata": {},
     "output_type": "execute_result"
    },
    {
     "data": {
      "image/png": "[encoded data removed]",
      "text/plain": [
       "<Figure size 432x288 with 1 Axes>"
      ]
     },
     "metadata": {
      "needs_background": "light"
     },
     "output_type": "display_data"
    }
   ],
   "source": [
    "sns.regplot(x = 'R',y= 'W',data=dfbase)"
   ]
  },
  {
   "cell_type": "code",
   "execution_count": 68,
   "id": "59f85bd7",
   "metadata": {},
   "outputs": [
    {
     "data": {
      "text/plain": [
       "<AxesSubplot:ylabel='R'>"
      ]
     },
     "execution_count": 68,
     "metadata": {},
     "output_type": "execute_result"
    },
    {
     "data": {
      "image/png": "[encoded data removed]",
      "text/plain": [
       "<Figure size 432x288 with 1 Axes>"
      ]
     },
     "metadata": {
      "needs_background": "light"
     },
     "output_type": "display_data"
    }
   ],
   "source": [
    "sns.boxplot(y='R',data=dfbase)"
   ]
  },
  {
   "cell_type": "code",
   "execution_count": 58,
   "id": "83fd12c9",
   "metadata": {},
   "outputs": [
    {
     "data": {
      "text/plain": [
       "<seaborn.axisgrid.FacetGrid at 0x212a6786910>"
      ]
     },
     "execution_count": 58,
     "metadata": {},
     "output_type": "execute_result"
    },
    {
     "data": {
      "image/png": "[encoded data removed]",
      "text/plain": [
       "<Figure size 360x360 with 1 Axes>"
      ]
     },
     "metadata": {
      "needs_background": "light"
     },
     "output_type": "display_data"
    }
   ],
   "source": [
    "import seaborn as sns\n",
    "\n",
    "sns.displot(dfbase['2B'],kde =True)"
   ]
  },
  {
   "cell_type": "code",
   "execution_count": 59,
   "id": "a54d0a08",
   "metadata": {},
   "outputs": [
    {
     "data": {
      "text/plain": [
       "<AxesSubplot:xlabel='2B', ylabel='W'>"
      ]
     },
     "execution_count": 59,
     "metadata": {},
     "output_type": "execute_result"
    },
    {
     "data": {
      "image/png": "[encoded data removed]",
      "text/plain": [
       "<Figure size 432x288 with 1 Axes>"
      ]
     },
     "metadata": {
      "needs_background": "light"
     },
     "output_type": "display_data"
    }
   ],
   "source": [
    "sns.regplot(x = '2B',y= 'W',data=dfbase)"
   ]
  },
  {
   "cell_type": "code",
   "execution_count": 67,
   "id": "7ff3e902",
   "metadata": {},
   "outputs": [
    {
     "data": {
      "text/plain": [
       "<AxesSubplot:ylabel='2B'>"
      ]
     },
     "execution_count": 67,
     "metadata": {},
     "output_type": "execute_result"
    },
    {
     "data": {
      "image/png": "[encoded data removed]",
      "text/plain": [
       "<Figure size 432x288 with 1 Axes>"
      ]
     },
     "metadata": {
      "needs_background": "light"
     },
     "output_type": "display_data"
    }
   ],
   "source": [
    "sns.boxplot(y='2B',data=dfbase)"
   ]
  },
  {
   "cell_type": "code",
   "execution_count": 60,
   "id": "ace0b478",
   "metadata": {},
   "outputs": [
    {
     "data": {
      "text/plain": [
       "<seaborn.axisgrid.FacetGrid at 0x212a6521a30>"
      ]
     },
     "execution_count": 60,
     "metadata": {},
     "output_type": "execute_result"
    },
    {
     "data": {
      "image/png": "[encoded data removed]",
      "text/plain": [
       "<Figure size 360x360 with 1 Axes>"
      ]
     },
     "metadata": {
      "needs_background": "light"
     },
     "output_type": "display_data"
    }
   ],
   "source": [
    "import seaborn as sns\n",
    "\n",
    "sns.displot(dfbase['SV'],kde =True)"
   ]
  },
  {
   "cell_type": "code",
   "execution_count": 61,
   "id": "ef29dfc0",
   "metadata": {},
   "outputs": [
    {
     "data": {
      "text/plain": [
       "<AxesSubplot:xlabel='SV', ylabel='W'>"
      ]
     },
     "execution_count": 61,
     "metadata": {},
     "output_type": "execute_result"
    },
    {
     "data": {
      "image/png": "[encoded data removed]",
      "text/plain": [
       "<Figure size 432x288 with 1 Axes>"
      ]
     },
     "metadata": {
      "needs_background": "light"
     },
     "output_type": "display_data"
    }
   ],
   "source": [
    "sns.regplot(x = 'SV',y= 'W',data=dfbase)"
   ]
  },
  {
   "cell_type": "code",
   "execution_count": 66,
   "id": "5d501440",
   "metadata": {},
   "outputs": [
    {
     "data": {
      "text/plain": [
       "<AxesSubplot:ylabel='SV'>"
      ]
     },
     "execution_count": 66,
     "metadata": {},
     "output_type": "execute_result"
    },
    {
     "data": {
      "image/png": "[encoded data removed]",
      "text/plain": [
       "<Figure size 432x288 with 1 Axes>"
      ]
     },
     "metadata": {
      "needs_background": "light"
     },
     "output_type": "display_data"
    }
   ],
   "source": [
    "sns.boxplot(y='SV',data=dfbase)"
   ]
  },
  {
   "cell_type": "code",
   "execution_count": 62,
   "id": "1965a0ba",
   "metadata": {},
   "outputs": [
    {
     "data": {
      "text/plain": [
       "<seaborn.axisgrid.FacetGrid at 0x212a7f0f5b0>"
      ]
     },
     "execution_count": 62,
     "metadata": {},
     "output_type": "execute_result"
    },
    {
     "data": {
      "image/png": "[encoded data removed]",
      "text/plain": [
       "<Figure size 360x360 with 1 Axes>"
      ]
     },
     "metadata": {
      "needs_background": "light"
     },
     "output_type": "display_data"
    }
   ],
   "source": [
    "import seaborn as sns\n",
    "\n",
    "sns.displot(dfbase['BB'],kde =True)"
   ]
  },
  {
   "cell_type": "code",
   "execution_count": 63,
   "id": "e14a86e4",
   "metadata": {},
   "outputs": [
    {
     "data": {
      "text/plain": [
       "<AxesSubplot:xlabel='BB', ylabel='W'>"
      ]
     },
     "execution_count": 63,
     "metadata": {},
     "output_type": "execute_result"
    },
    {
     "data": {
      "image/png": "[encoded data removed]",
      "text/plain": [
       "<Figure size 432x288 with 1 Axes>"
      ]
     },
     "metadata": {
      "needs_background": "light"
     },
     "output_type": "display_data"
    }
   ],
   "source": [
    "sns.regplot(x = 'BB',y= 'W',data=dfbase)"
   ]
  },
  {
   "cell_type": "code",
   "execution_count": 65,
   "id": "3b1a4c35",
   "metadata": {},
   "outputs": [
    {
     "data": {
      "text/plain": [
       "<AxesSubplot:ylabel='BB'>"
      ]
     },
     "execution_count": 65,
     "metadata": {},
     "output_type": "execute_result"
    },
    {
     "data": {
      "image/png": "[encoded data removed]",
      "text/plain": [
       "<Figure size 432x288 with 1 Axes>"
      ]
     },
     "metadata": {
      "needs_background": "light"
     },
     "output_type": "display_data"
    }
   ],
   "source": [
    "sns.boxplot(y='BB',data=dfbase)"
   ]
  },
  {
   "cell_type": "markdown",
   "id": "558e471a",
   "metadata": {},
   "source": [
    "Observation - From the abouve corelation data and the graph its clear that the Input features Run and Saves are highly corelated to the output feature Win."
   ]
  },
  {
   "cell_type": "markdown",
   "id": "60a604b1",
   "metadata": {},
   "source": [
    "Observation 2 - \n",
    " Run and win are linearly correlated. And outliers are present between 850 and 900\n",
    " Other features like 2B , SV are highly corelated."
   ]
  },
  {
   "cell_type": "code",
   "execution_count": 81,
   "id": "ddbc44b9",
   "metadata": {},
   "outputs": [],
   "source": [
    "dfbase2=dfbase.drop(['RA','AB','3B','HR','BB','SO','ER','ERA','CG','E'],axis=1)"
   ]
  },
  {
   "cell_type": "code",
   "execution_count": 82,
   "id": "c4826272",
   "metadata": {},
   "outputs": [
    {
     "data": {
      "text/plain": [
       "W      int64\n",
       "R      int64\n",
       "H      int64\n",
       "2B     int64\n",
       "SB     int64\n",
       "SHO    int64\n",
       "SV     int64\n",
       "dtype: object"
      ]
     },
     "execution_count": 82,
     "metadata": {},
     "output_type": "execute_result"
    }
   ],
   "source": [
    "\n",
    "\n",
    "dfbase2.dtypes\n",
    "\n"
   ]
  },
  {
   "cell_type": "code",
   "execution_count": 83,
   "id": "e86649dd",
   "metadata": {},
   "outputs": [
    {
     "data": {
      "text/plain": [
       "(array([5], dtype=int64), array([1], dtype=int64))"
      ]
     },
     "execution_count": 83,
     "metadata": {},
     "output_type": "execute_result"
    }
   ],
   "source": [
    "\n",
    "\n",
    "from scipy.stats import zscore\n",
    "import numpy as np\n",
    "z=np.abs(zscore(dfbase2))\n",
    "threshold =3\n",
    "np.where(z>3)\n",
    "\n"
   ]
  },
  {
   "cell_type": "code",
   "execution_count": 85,
   "id": "61321b3e",
   "metadata": {},
   "outputs": [
    {
     "data": {
      "text/html": [
       "<div>\n",
       "<style scoped>\n",
       "    .dataframe tbody tr th:only-of-type {\n",
       "        vertical-align: middle;\n",
       "    }\n",
       "\n",
       "    .dataframe tbody tr th {\n",
       "        vertical-align: top;\n",
       "    }\n",
       "\n",
       "    .dataframe thead th {\n",
       "        text-align: right;\n",
       "    }\n",
       "</style>\n",
       "<table border=\"1\" class=\"dataframe\">\n",
       "  <thead>\n",
       "    <tr style=\"text-align: right;\">\n",
       "      <th></th>\n",
       "      <th>W</th>\n",
       "      <th>R</th>\n",
       "      <th>H</th>\n",
       "      <th>2B</th>\n",
       "      <th>SB</th>\n",
       "      <th>SHO</th>\n",
       "      <th>SV</th>\n",
       "    </tr>\n",
       "  </thead>\n",
       "  <tbody>\n",
       "    <tr>\n",
       "      <th>0</th>\n",
       "      <td>95</td>\n",
       "      <td>724</td>\n",
       "      <td>1497</td>\n",
       "      <td>300</td>\n",
       "      <td>104</td>\n",
       "      <td>8</td>\n",
       "      <td>56</td>\n",
       "    </tr>\n",
       "    <tr>\n",
       "      <th>1</th>\n",
       "      <td>83</td>\n",
       "      <td>696</td>\n",
       "      <td>1349</td>\n",
       "      <td>277</td>\n",
       "      <td>70</td>\n",
       "      <td>12</td>\n",
       "      <td>45</td>\n",
       "    </tr>\n",
       "    <tr>\n",
       "      <th>2</th>\n",
       "      <td>81</td>\n",
       "      <td>669</td>\n",
       "      <td>1395</td>\n",
       "      <td>303</td>\n",
       "      <td>86</td>\n",
       "      <td>10</td>\n",
       "      <td>38</td>\n",
       "    </tr>\n",
       "    <tr>\n",
       "      <th>3</th>\n",
       "      <td>76</td>\n",
       "      <td>622</td>\n",
       "      <td>1381</td>\n",
       "      <td>260</td>\n",
       "      <td>68</td>\n",
       "      <td>9</td>\n",
       "      <td>37</td>\n",
       "    </tr>\n",
       "    <tr>\n",
       "      <th>4</th>\n",
       "      <td>74</td>\n",
       "      <td>689</td>\n",
       "      <td>1515</td>\n",
       "      <td>289</td>\n",
       "      <td>83</td>\n",
       "      <td>12</td>\n",
       "      <td>35</td>\n",
       "    </tr>\n",
       "    <tr>\n",
       "      <th>6</th>\n",
       "      <td>87</td>\n",
       "      <td>764</td>\n",
       "      <td>1397</td>\n",
       "      <td>272</td>\n",
       "      <td>63</td>\n",
       "      <td>4</td>\n",
       "      <td>48</td>\n",
       "    </tr>\n",
       "    <tr>\n",
       "      <th>7</th>\n",
       "      <td>81</td>\n",
       "      <td>713</td>\n",
       "      <td>1370</td>\n",
       "      <td>246</td>\n",
       "      <td>44</td>\n",
       "      <td>10</td>\n",
       "      <td>43</td>\n",
       "    </tr>\n",
       "    <tr>\n",
       "      <th>8</th>\n",
       "      <td>80</td>\n",
       "      <td>644</td>\n",
       "      <td>1383</td>\n",
       "      <td>278</td>\n",
       "      <td>87</td>\n",
       "      <td>12</td>\n",
       "      <td>60</td>\n",
       "    </tr>\n",
       "    <tr>\n",
       "      <th>9</th>\n",
       "      <td>78</td>\n",
       "      <td>748</td>\n",
       "      <td>1495</td>\n",
       "      <td>294</td>\n",
       "      <td>71</td>\n",
       "      <td>10</td>\n",
       "      <td>40</td>\n",
       "    </tr>\n",
       "    <tr>\n",
       "      <th>10</th>\n",
       "      <td>88</td>\n",
       "      <td>751</td>\n",
       "      <td>1419</td>\n",
       "      <td>279</td>\n",
       "      <td>101</td>\n",
       "      <td>9</td>\n",
       "      <td>45</td>\n",
       "    </tr>\n",
       "    <tr>\n",
       "      <th>11</th>\n",
       "      <td>86</td>\n",
       "      <td>729</td>\n",
       "      <td>1363</td>\n",
       "      <td>278</td>\n",
       "      <td>121</td>\n",
       "      <td>13</td>\n",
       "      <td>39</td>\n",
       "    </tr>\n",
       "    <tr>\n",
       "      <th>12</th>\n",
       "      <td>85</td>\n",
       "      <td>661</td>\n",
       "      <td>1331</td>\n",
       "      <td>243</td>\n",
       "      <td>52</td>\n",
       "      <td>12</td>\n",
       "      <td>46</td>\n",
       "    </tr>\n",
       "    <tr>\n",
       "      <th>13</th>\n",
       "      <td>76</td>\n",
       "      <td>656</td>\n",
       "      <td>1379</td>\n",
       "      <td>262</td>\n",
       "      <td>69</td>\n",
       "      <td>12</td>\n",
       "      <td>45</td>\n",
       "    </tr>\n",
       "    <tr>\n",
       "      <th>14</th>\n",
       "      <td>68</td>\n",
       "      <td>694</td>\n",
       "      <td>1405</td>\n",
       "      <td>277</td>\n",
       "      <td>78</td>\n",
       "      <td>15</td>\n",
       "      <td>28</td>\n",
       "    </tr>\n",
       "    <tr>\n",
       "      <th>15</th>\n",
       "      <td>100</td>\n",
       "      <td>647</td>\n",
       "      <td>1386</td>\n",
       "      <td>288</td>\n",
       "      <td>69</td>\n",
       "      <td>15</td>\n",
       "      <td>62</td>\n",
       "    </tr>\n",
       "    <tr>\n",
       "      <th>16</th>\n",
       "      <td>98</td>\n",
       "      <td>697</td>\n",
       "      <td>1462</td>\n",
       "      <td>292</td>\n",
       "      <td>98</td>\n",
       "      <td>13</td>\n",
       "      <td>54</td>\n",
       "    </tr>\n",
       "    <tr>\n",
       "      <th>17</th>\n",
       "      <td>97</td>\n",
       "      <td>689</td>\n",
       "      <td>1341</td>\n",
       "      <td>272</td>\n",
       "      <td>95</td>\n",
       "      <td>21</td>\n",
       "      <td>48</td>\n",
       "    </tr>\n",
       "    <tr>\n",
       "      <th>18</th>\n",
       "      <td>68</td>\n",
       "      <td>655</td>\n",
       "      <td>1378</td>\n",
       "      <td>274</td>\n",
       "      <td>84</td>\n",
       "      <td>7</td>\n",
       "      <td>40</td>\n",
       "    </tr>\n",
       "    <tr>\n",
       "      <th>19</th>\n",
       "      <td>64</td>\n",
       "      <td>640</td>\n",
       "      <td>1382</td>\n",
       "      <td>257</td>\n",
       "      <td>134</td>\n",
       "      <td>8</td>\n",
       "      <td>35</td>\n",
       "    </tr>\n",
       "    <tr>\n",
       "      <th>20</th>\n",
       "      <td>90</td>\n",
       "      <td>683</td>\n",
       "      <td>1351</td>\n",
       "      <td>295</td>\n",
       "      <td>51</td>\n",
       "      <td>14</td>\n",
       "      <td>50</td>\n",
       "    </tr>\n",
       "    <tr>\n",
       "      <th>21</th>\n",
       "      <td>83</td>\n",
       "      <td>703</td>\n",
       "      <td>1363</td>\n",
       "      <td>265</td>\n",
       "      <td>57</td>\n",
       "      <td>13</td>\n",
       "      <td>41</td>\n",
       "    </tr>\n",
       "    <tr>\n",
       "      <th>22</th>\n",
       "      <td>71</td>\n",
       "      <td>613</td>\n",
       "      <td>1420</td>\n",
       "      <td>236</td>\n",
       "      <td>112</td>\n",
       "      <td>12</td>\n",
       "      <td>35</td>\n",
       "    </tr>\n",
       "    <tr>\n",
       "      <th>23</th>\n",
       "      <td>67</td>\n",
       "      <td>573</td>\n",
       "      <td>1361</td>\n",
       "      <td>251</td>\n",
       "      <td>69</td>\n",
       "      <td>10</td>\n",
       "      <td>44</td>\n",
       "    </tr>\n",
       "    <tr>\n",
       "      <th>24</th>\n",
       "      <td>63</td>\n",
       "      <td>626</td>\n",
       "      <td>1374</td>\n",
       "      <td>272</td>\n",
       "      <td>88</td>\n",
       "      <td>7</td>\n",
       "      <td>35</td>\n",
       "    </tr>\n",
       "    <tr>\n",
       "      <th>25</th>\n",
       "      <td>92</td>\n",
       "      <td>667</td>\n",
       "      <td>1346</td>\n",
       "      <td>263</td>\n",
       "      <td>59</td>\n",
       "      <td>21</td>\n",
       "      <td>47</td>\n",
       "    </tr>\n",
       "    <tr>\n",
       "      <th>26</th>\n",
       "      <td>84</td>\n",
       "      <td>696</td>\n",
       "      <td>1486</td>\n",
       "      <td>288</td>\n",
       "      <td>93</td>\n",
       "      <td>18</td>\n",
       "      <td>41</td>\n",
       "    </tr>\n",
       "    <tr>\n",
       "      <th>27</th>\n",
       "      <td>79</td>\n",
       "      <td>720</td>\n",
       "      <td>1494</td>\n",
       "      <td>289</td>\n",
       "      <td>132</td>\n",
       "      <td>12</td>\n",
       "      <td>44</td>\n",
       "    </tr>\n",
       "    <tr>\n",
       "      <th>28</th>\n",
       "      <td>74</td>\n",
       "      <td>650</td>\n",
       "      <td>1324</td>\n",
       "      <td>260</td>\n",
       "      <td>82</td>\n",
       "      <td>6</td>\n",
       "      <td>41</td>\n",
       "    </tr>\n",
       "    <tr>\n",
       "      <th>29</th>\n",
       "      <td>68</td>\n",
       "      <td>737</td>\n",
       "      <td>1479</td>\n",
       "      <td>274</td>\n",
       "      <td>97</td>\n",
       "      <td>4</td>\n",
       "      <td>36</td>\n",
       "    </tr>\n",
       "  </tbody>\n",
       "</table>\n",
       "</div>"
      ],
      "text/plain": [
       "      W    R     H   2B   SB  SHO  SV\n",
       "0    95  724  1497  300  104    8  56\n",
       "1    83  696  1349  277   70   12  45\n",
       "2    81  669  1395  303   86   10  38\n",
       "3    76  622  1381  260   68    9  37\n",
       "4    74  689  1515  289   83   12  35\n",
       "6    87  764  1397  272   63    4  48\n",
       "7    81  713  1370  246   44   10  43\n",
       "8    80  644  1383  278   87   12  60\n",
       "9    78  748  1495  294   71   10  40\n",
       "10   88  751  1419  279  101    9  45\n",
       "11   86  729  1363  278  121   13  39\n",
       "12   85  661  1331  243   52   12  46\n",
       "13   76  656  1379  262   69   12  45\n",
       "14   68  694  1405  277   78   15  28\n",
       "15  100  647  1386  288   69   15  62\n",
       "16   98  697  1462  292   98   13  54\n",
       "17   97  689  1341  272   95   21  48\n",
       "18   68  655  1378  274   84    7  40\n",
       "19   64  640  1382  257  134    8  35\n",
       "20   90  683  1351  295   51   14  50\n",
       "21   83  703  1363  265   57   13  41\n",
       "22   71  613  1420  236  112   12  35\n",
       "23   67  573  1361  251   69   10  44\n",
       "24   63  626  1374  272   88    7  35\n",
       "25   92  667  1346  263   59   21  47\n",
       "26   84  696  1486  288   93   18  41\n",
       "27   79  720  1494  289  132   12  44\n",
       "28   74  650  1324  260   82    6  41\n",
       "29   68  737  1479  274   97    4  36"
      ]
     },
     "execution_count": 85,
     "metadata": {},
     "output_type": "execute_result"
    }
   ],
   "source": [
    "\n",
    "\n",
    "dfbase3 = dfbase2[(z<3).all(axis=1)]\n",
    "dfbase3\n",
    "\n"
   ]
  },
  {
   "cell_type": "code",
   "execution_count": 87,
   "id": "eb42d2f5",
   "metadata": {},
   "outputs": [
    {
     "data": {
      "text/plain": [
       "(29, 7)"
      ]
     },
     "execution_count": 87,
     "metadata": {},
     "output_type": "execute_result"
    }
   ],
   "source": [
    "dfbase3.shape"
   ]
  },
  {
   "cell_type": "markdown",
   "id": "81235240",
   "metadata": {},
   "source": [
    "# Applying Linear Regression approach"
   ]
  },
  {
   "cell_type": "code",
   "execution_count": 88,
   "id": "fd6994b6",
   "metadata": {},
   "outputs": [],
   "source": [
    "\n",
    "\n",
    "features = dfbase3.drop(\"R\",axis= 1)\n",
    "target = dfbase3[\"W\"]\n",
    "\n"
   ]
  },
  {
   "cell_type": "code",
   "execution_count": 89,
   "id": "5ec9eafa",
   "metadata": {},
   "outputs": [],
   "source": [
    "from sklearn.preprocessing import MinMaxScaler\n",
    "mns =   MinMaxScaler()\n",
    "from sklearn.linear_model import LinearRegression\n",
    "lr = LinearRegression()\n",
    "from sklearn.metrics import r2_score\n",
    "from sklearn.model_selection import train_test_split"
   ]
  },
  {
   "cell_type": "code",
   "execution_count": 90,
   "id": "c921c131",
   "metadata": {},
   "outputs": [],
   "source": [
    "import warnings\n",
    "warnings.filterwarnings('ignore')"
   ]
  },
  {
   "cell_type": "code",
   "execution_count": 91,
   "id": "728a6c53",
   "metadata": {},
   "outputs": [
    {
     "name": "stdout",
     "output_type": "stream",
     "text": [
      "At random state0  :- 1.0\n",
      "At random state0 : 1.0\n",
      "\n",
      "\n",
      "At random state1  :- 1.0\n",
      "At random state1 : 1.0\n",
      "\n",
      "\n",
      "At random state2  :- 1.0\n",
      "At random state2 : 1.0\n",
      "\n",
      "\n",
      "At random state3  :- 1.0\n",
      "At random state3 : 1.0\n",
      "\n",
      "\n",
      "At random state4  :- 1.0\n",
      "At random state4 : 1.0\n",
      "\n",
      "\n",
      "At random state5  :- 1.0\n",
      "At random state5 : 1.0\n",
      "\n",
      "\n",
      "At random state6  :- 1.0\n",
      "At random state6 : 1.0\n",
      "\n",
      "\n",
      "At random state7  :- 1.0\n",
      "At random state7 : 1.0\n",
      "\n",
      "\n",
      "At random state8  :- 1.0\n",
      "At random state8 : 1.0\n",
      "\n",
      "\n",
      "At random state9  :- 1.0\n",
      "At random state9 : 1.0\n",
      "\n",
      "\n",
      "At random state10  :- 1.0\n",
      "At random state10 : 1.0\n",
      "\n",
      "\n",
      "At random state11  :- 1.0\n",
      "At random state11 : 1.0\n",
      "\n",
      "\n",
      "At random state12  :- 1.0\n",
      "At random state12 : 1.0\n",
      "\n",
      "\n",
      "At random state13  :- 1.0\n",
      "At random state13 : 1.0\n",
      "\n",
      "\n",
      "At random state14  :- 1.0\n",
      "At random state14 : 1.0\n",
      "\n",
      "\n",
      "At random state15  :- 1.0\n",
      "At random state15 : 1.0\n",
      "\n",
      "\n",
      "At random state16  :- 1.0\n",
      "At random state16 : 1.0\n",
      "\n",
      "\n",
      "At random state17  :- 1.0\n",
      "At random state17 : 1.0\n",
      "\n",
      "\n",
      "At random state18  :- 1.0\n",
      "At random state18 : 1.0\n",
      "\n",
      "\n",
      "At random state19  :- 1.0\n",
      "At random state19 : 1.0\n",
      "\n",
      "\n",
      "At random state20  :- 1.0\n",
      "At random state20 : 1.0\n",
      "\n",
      "\n",
      "At random state21  :- 1.0\n",
      "At random state21 : 1.0\n",
      "\n",
      "\n",
      "At random state22  :- 1.0\n",
      "At random state22 : 1.0\n",
      "\n",
      "\n",
      "At random state23  :- 1.0\n",
      "At random state23 : 1.0\n",
      "\n",
      "\n",
      "At random state24  :- 1.0\n",
      "At random state24 : 1.0\n",
      "\n",
      "\n",
      "At random state25  :- 1.0\n",
      "At random state25 : 1.0\n",
      "\n",
      "\n",
      "At random state26  :- 1.0\n",
      "At random state26 : 1.0\n",
      "\n",
      "\n",
      "At random state27  :- 1.0\n",
      "At random state27 : 1.0\n",
      "\n",
      "\n",
      "At random state28  :- 1.0\n",
      "At random state28 : 1.0\n",
      "\n",
      "\n",
      "At random state29  :- 1.0\n",
      "At random state29 : 1.0\n",
      "\n",
      "\n",
      "At random state30  :- 1.0\n",
      "At random state30 : 1.0\n",
      "\n",
      "\n",
      "At random state31  :- 1.0\n",
      "At random state31 : 1.0\n",
      "\n",
      "\n",
      "At random state32  :- 1.0\n",
      "At random state32 : 1.0\n",
      "\n",
      "\n",
      "At random state33  :- 1.0\n",
      "At random state33 : 1.0\n",
      "\n",
      "\n",
      "At random state34  :- 1.0\n",
      "At random state34 : 1.0\n",
      "\n",
      "\n",
      "At random state35  :- 1.0\n",
      "At random state35 : 1.0\n",
      "\n",
      "\n",
      "At random state36  :- 1.0\n",
      "At random state36 : 1.0\n",
      "\n",
      "\n",
      "At random state37  :- 1.0\n",
      "At random state37 : 1.0\n",
      "\n",
      "\n",
      "At random state38  :- 1.0\n",
      "At random state38 : 1.0\n",
      "\n",
      "\n",
      "At random state39  :- 1.0\n",
      "At random state39 : 1.0\n",
      "\n",
      "\n",
      "At random state40  :- 1.0\n",
      "At random state40 : 1.0\n",
      "\n",
      "\n",
      "At random state41  :- 1.0\n",
      "At random state41 : 1.0\n",
      "\n",
      "\n",
      "At random state42  :- 1.0\n",
      "At random state42 : 1.0\n",
      "\n",
      "\n",
      "At random state43  :- 1.0\n",
      "At random state43 : 1.0\n",
      "\n",
      "\n",
      "At random state44  :- 1.0\n",
      "At random state44 : 1.0\n",
      "\n",
      "\n",
      "At random state45  :- 1.0\n",
      "At random state45 : 1.0\n",
      "\n",
      "\n",
      "At random state46  :- 1.0\n",
      "At random state46 : 1.0\n",
      "\n",
      "\n",
      "At random state47  :- 1.0\n",
      "At random state47 : 1.0\n",
      "\n",
      "\n",
      "At random state48  :- 1.0\n",
      "At random state48 : 1.0\n",
      "\n",
      "\n",
      "At random state49  :- 1.0\n",
      "At random state49 : 1.0\n",
      "\n",
      "\n",
      "At random state50  :- 1.0\n",
      "At random state50 : 1.0\n",
      "\n",
      "\n",
      "At random state51  :- 1.0\n",
      "At random state51 : 1.0\n",
      "\n",
      "\n",
      "At random state52  :- 1.0\n",
      "At random state52 : 1.0\n",
      "\n",
      "\n",
      "At random state53  :- 1.0\n",
      "At random state53 : 1.0\n",
      "\n",
      "\n",
      "At random state54  :- 1.0\n",
      "At random state54 : 1.0\n",
      "\n",
      "\n",
      "At random state55  :- 1.0\n",
      "At random state55 : 1.0\n",
      "\n",
      "\n",
      "At random state56  :- 1.0\n",
      "At random state56 : 1.0\n",
      "\n",
      "\n",
      "At random state57  :- 1.0\n",
      "At random state57 : 1.0\n",
      "\n",
      "\n",
      "At random state58  :- 1.0\n",
      "At random state58 : 1.0\n",
      "\n",
      "\n",
      "At random state59  :- 1.0\n",
      "At random state59 : 1.0\n",
      "\n",
      "\n",
      "At random state60  :- 1.0\n",
      "At random state60 : 1.0\n",
      "\n",
      "\n",
      "At random state61  :- 1.0\n",
      "At random state61 : 1.0\n",
      "\n",
      "\n",
      "At random state62  :- 1.0\n",
      "At random state62 : 1.0\n",
      "\n",
      "\n",
      "At random state63  :- 1.0\n",
      "At random state63 : 1.0\n",
      "\n",
      "\n",
      "At random state64  :- 1.0\n",
      "At random state64 : 1.0\n",
      "\n",
      "\n",
      "At random state65  :- 1.0\n",
      "At random state65 : 1.0\n",
      "\n",
      "\n",
      "At random state66  :- 1.0\n",
      "At random state66 : 1.0\n",
      "\n",
      "\n",
      "At random state67  :- 1.0\n",
      "At random state67 : 1.0\n",
      "\n",
      "\n",
      "At random state68  :- 1.0\n",
      "At random state68 : 1.0\n",
      "\n",
      "\n",
      "At random state69  :- 1.0\n",
      "At random state69 : 1.0\n",
      "\n",
      "\n",
      "At random state70  :- 1.0\n",
      "At random state70 : 1.0\n",
      "\n",
      "\n",
      "At random state71  :- 1.0\n",
      "At random state71 : 1.0\n",
      "\n",
      "\n",
      "At random state72  :- 1.0\n",
      "At random state72 : 1.0\n",
      "\n",
      "\n",
      "At random state73  :- 1.0\n",
      "At random state73 : 1.0\n",
      "\n",
      "\n",
      "At random state74  :- 1.0\n",
      "At random state74 : 1.0\n",
      "\n",
      "\n",
      "At random state75  :- 1.0\n",
      "At random state75 : 1.0\n",
      "\n",
      "\n",
      "At random state76  :- 1.0\n",
      "At random state76 : 1.0\n",
      "\n",
      "\n",
      "At random state77  :- 1.0\n",
      "At random state77 : 1.0\n",
      "\n",
      "\n",
      "At random state78  :- 1.0\n",
      "At random state78 : 1.0\n",
      "\n",
      "\n",
      "At random state79  :- 1.0\n",
      "At random state79 : 1.0\n",
      "\n",
      "\n",
      "At random state80  :- 1.0\n",
      "At random state80 : 1.0\n",
      "\n",
      "\n",
      "At random state81  :- 1.0\n",
      "At random state81 : 1.0\n",
      "\n",
      "\n",
      "At random state82  :- 1.0\n",
      "At random state82 : 1.0\n",
      "\n",
      "\n",
      "At random state83  :- 1.0\n",
      "At random state83 : 1.0\n",
      "\n",
      "\n",
      "At random state84  :- 1.0\n",
      "At random state84 : 1.0\n",
      "\n",
      "\n",
      "At random state85  :- 1.0\n",
      "At random state85 : 1.0\n",
      "\n",
      "\n",
      "At random state86  :- 1.0\n",
      "At random state86 : 1.0\n",
      "\n",
      "\n",
      "At random state87  :- 1.0\n",
      "At random state87 : 1.0\n",
      "\n",
      "\n",
      "At random state88  :- 1.0\n",
      "At random state88 : 1.0\n",
      "\n",
      "\n",
      "At random state89  :- 1.0\n",
      "At random state89 : 1.0\n",
      "\n",
      "\n",
      "At random state90  :- 1.0\n",
      "At random state90 : 1.0\n",
      "\n",
      "\n",
      "At random state91  :- 1.0\n",
      "At random state91 : 1.0\n",
      "\n",
      "\n",
      "At random state92  :- 1.0\n",
      "At random state92 : 1.0\n",
      "\n",
      "\n",
      "At random state93  :- 1.0\n",
      "At random state93 : 1.0\n",
      "\n",
      "\n",
      "At random state94  :- 1.0\n",
      "At random state94 : 1.0\n",
      "\n",
      "\n",
      "At random state95  :- 1.0\n",
      "At random state95 : 1.0\n",
      "\n",
      "\n",
      "At random state96  :- 1.0\n",
      "At random state96 : 1.0\n",
      "\n",
      "\n",
      "At random state97  :- 1.0\n",
      "At random state97 : 1.0\n",
      "\n",
      "\n",
      "At random state98  :- 1.0\n",
      "At random state98 : 1.0\n",
      "\n",
      "\n",
      "At random state99  :- 1.0\n",
      "At random state99 : 1.0\n",
      "\n",
      "\n"
     ]
    }
   ],
   "source": [
    "for i in range(0,100):\n",
    "        features_train,features_test,target_train,target_test=train_test_split(features,target,test_size=0.2,random_state=i)\n",
    "        lr.fit(features_train,target_train)\n",
    "        pred_train = lr.predict(features_train)\n",
    "        pred_test = lr.predict(features_test)\n",
    "        print(f\"At random state{i}  :- {r2_score(target_train,pred_train)}\")\n",
    "        print(f\"At random state{i} : {r2_score(target_test,pred_test)}\")\n",
    "        print(\"\\n\")"
   ]
  },
  {
   "cell_type": "code",
   "execution_count": 92,
   "id": "1dd8be07",
   "metadata": {},
   "outputs": [
    {
     "name": "stdout",
     "output_type": "stream",
     "text": [
      "1.0\n"
     ]
    }
   ],
   "source": [
    "\n",
    "\n",
    "features_train,features_test,target_train,target_test=train_test_split(features,target,test_size=0.2,random_state=12)\n",
    "\n",
    "\n",
    "\n",
    "lr.fit(features_train,target_train)\n",
    "\n",
    "\n",
    "\n",
    "pred_test=lr.predict(features_test)\n",
    "\n",
    "\n",
    "\n",
    "print (r2_score(target_test,pred_test))\n",
    "\n"
   ]
  },
  {
   "cell_type": "markdown",
   "id": "bf6265e4",
   "metadata": {},
   "source": [
    "# Cross Validation of the model to overcome overfitting and underfitting"
   ]
  },
  {
   "cell_type": "code",
   "execution_count": 93,
   "id": "81d6dfda",
   "metadata": {},
   "outputs": [
    {
     "name": "stdout",
     "output_type": "stream",
     "text": [
      "At cross fold 9 the cv score is 1.0 and accuracy score for training is -0.41471667200911844 and accuracy for testing is -0.41471667200911844\n",
      "\n",
      "\n"
     ]
    }
   ],
   "source": [
    "Train_accuracy = r2_score(target_train,pred_train)\n",
    "Test_accuracy = r2_score(target_train,pred_train)\n",
    "\n",
    "from sklearn.model_selection import cross_val_score\n",
    "for j in range (2,10):\n",
    "\n",
    "    cv_score = cross_val_score(lr,features,target ,cv=j )\n",
    "    cv_mean = cv_score.mean()\n",
    "print(f\"At cross fold {j} the cv score is {cv_mean} and accuracy score for training is {Train_accuracy} and accuracy for testing is {Test_accuracy}\")\n",
    "print(\"\\n\")"
   ]
  },
  {
   "cell_type": "code",
   "execution_count": 94,
   "id": "734eafaf",
   "metadata": {},
   "outputs": [
    {
     "data": {
      "image/png": "[encoded data removed]",
      "text/plain": [
       "<Figure size 576x432 with 1 Axes>"
      ]
     },
     "metadata": {
      "needs_background": "light"
     },
     "output_type": "display_data"
    }
   ],
   "source": [
    "import matplotlib.pyplot as plt\n",
    "plt.figure(figsize =(8,6))\n",
    "plt.scatter(x=target_test,y=pred_test,color='b')\n",
    "plt.plot(target_test,target_test,color='r')\n",
    "plt.xlabel('Actual Sales' ,fontsize=14)\n",
    "plt.ylabel('Predicted Sales' ,fontsize=14)\n",
    "plt.title('Linear regression' ,fontsize=18)\n",
    "plt.show()"
   ]
  },
  {
   "cell_type": "markdown",
   "id": "b94edf36",
   "metadata": {},
   "source": [
    "# Regularization"
   ]
  },
  {
   "cell_type": "code",
   "execution_count": 96,
   "id": "8dd185c0",
   "metadata": {},
   "outputs": [
    {
     "name": "stdout",
     "output_type": "stream",
     "text": [
      "{'alpha': 0.0001, 'random_state': 0}\n"
     ]
    }
   ],
   "source": [
    "\n",
    "\n",
    "from sklearn.model_selection import GridSearchCV\n",
    "from sklearn.model_selection import cross_val_score\n",
    "import warnings\n",
    "warnings.filterwarnings('ignore')\n",
    "\n",
    "\n",
    "\n",
    "from sklearn.linear_model import Lasso\n",
    "\n",
    "parameters = {'alpha':[.0001,.001,.01,.1,1,10],\n",
    "            'random_state':list(range(0,10))}\n",
    "ls= Lasso()\n",
    "clf=GridSearchCV(ls,parameters)\n",
    "clf.fit(features_train,target_train)\n",
    "\n",
    "print(clf.best_params_)"
   ]
  },
  {
   "cell_type": "code",
   "execution_count": 97,
   "id": "b95f0364",
   "metadata": {},
   "outputs": [
    {
     "data": {
      "text/plain": [
       "99.99112537626935"
      ]
     },
     "execution_count": 97,
     "metadata": {},
     "output_type": "execute_result"
    }
   ],
   "source": [
    "\n",
    "\n",
    "ls= Lasso(alpha=1,random_state=0)\n",
    "ls.fit(features_train,target_train)\n",
    "ls_score_training = ls.score(features_train,target_train)\n",
    "pred_ls = ls.predict(features_test)\n",
    "ls_score_training*100\n",
    "\n"
   ]
  },
  {
   "cell_type": "code",
   "execution_count": 98,
   "id": "fd22ee9e",
   "metadata": {},
   "outputs": [
    {
     "data": {
      "text/plain": [
       "99.9872117335251"
      ]
     },
     "execution_count": 98,
     "metadata": {},
     "output_type": "execute_result"
    }
   ],
   "source": [
    "\n",
    "\n",
    "lss= r2_score(target_test,pred_ls)\n",
    "lss*100\n",
    "\n"
   ]
  },
  {
   "cell_type": "code",
   "execution_count": 99,
   "id": "a6a8cbd7",
   "metadata": {},
   "outputs": [
    {
     "data": {
      "text/plain": [
       "99.98432880714061"
      ]
     },
     "execution_count": 99,
     "metadata": {},
     "output_type": "execute_result"
    }
   ],
   "source": [
    "pred_ls = ls.predict (features_test)\n",
    "cv_score = cross_val_score(ls,features,target ,cv=3)\n",
    "cv_mean = cv_score.mean()\n",
    "cv_mean *100"
   ]
  },
  {
   "cell_type": "code",
   "execution_count": 100,
   "id": "7d094a05",
   "metadata": {},
   "outputs": [
    {
     "name": "stdout",
     "output_type": "stream",
     "text": [
      "{'criterion': 'mse', 'max_features': 'auto'}\n"
     ]
    }
   ],
   "source": [
    "from sklearn.model_selection import GridSearchCV\n",
    "from sklearn.ensemble import RandomForestRegressor\n",
    "\n",
    "parameters = {'criterion':['mse','mae'],'max_features':[\"auto\",\"sqrt\",\"log2\"]}\n",
    "rf=RandomForestRegressor()\n",
    "clf = GridSearchCV(rf,parameters)\n",
    "clf.fit(features_train,target_train)\n",
    "\n",
    "print (clf.best_params_)"
   ]
  },
  {
   "cell_type": "code",
   "execution_count": 101,
   "id": "9f05c30e",
   "metadata": {},
   "outputs": [
    {
     "name": "stdout",
     "output_type": "stream",
     "text": [
      "R2 score  90.13497663551404\n",
      "cross validation score 90.76868220234383\n"
     ]
    }
   ],
   "source": [
    "\n",
    "\n",
    "rf=RandomForestRegressor(criterion=\"mae\",max_features=\"auto\")\n",
    "rf.fit(features_train,target_train)\n",
    "rf.score (features_train,target_train)\n",
    "pred_decission=rf.predict(features_test)\n",
    "\n",
    "rfs = r2_score(target_test,pred_decission)\n",
    "print('R2 score ',rfs*100)\n",
    "\n",
    "rfscore = cross_val_score(rf,features,target,cv=5)\n",
    "rfc =rfscore.mean()\n",
    "print ('cross validation score',rfc*100)\n",
    "\n"
   ]
  },
  {
   "cell_type": "markdown",
   "id": "02f6bc67",
   "metadata": {},
   "source": [
    "Conclution - The R2 score for the model is 90.13 and Cross validation score is 90.76"
   ]
  }
 ],
 "metadata": {
  "kernelspec": {
   "display_name": "Python 3 (ipykernel)",
   "language": "python",
   "name": "python3"
  },
  "language_info": {
   "codemirror_mode": {
    "name": "ipython",
    "version": 3
   },
   "file_extension": ".py",
   "mimetype": "text/x-python",
   "name": "python",
   "nbconvert_exporter": "python",
   "pygments_lexer": "ipython3",
   "version": "3.9.7"
  }
 },
 "nbformat": 4,
 "nbformat_minor": 5
}
